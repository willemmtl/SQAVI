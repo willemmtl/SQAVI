{
 "cells": [
  {
   "cell_type": "markdown",
   "id": "51002f42",
   "metadata": {},
   "source": [
    "Le code suivant vise à retrouver les résultats du mémoire de maîtrise de Ferdinand Willemin (2025)."
   ]
  },
  {
   "cell_type": "code",
   "execution_count": 20,
   "id": "f8a74ed4",
   "metadata": {},
   "outputs": [],
   "source": [
    "# Modules à importer\n",
    "using Random\n",
    "\n",
    "include(\"src/dataGen.jl\");\n",
    "include(\"src/sqavi.jl\");\n",
    "include(\"src/mcmc.jl\");\n",
    "include(\"src/plotting.jl\");"
   ]
  },
  {
   "cell_type": "markdown",
   "id": "4a2e76cb",
   "metadata": {},
   "source": [
    "# CHAPITRE 6. Résultats sur données de simulation"
   ]
  },
  {
   "cell_type": "markdown",
   "id": "6ff8498f",
   "metadata": {},
   "source": [
    "## Charger des anciens résultats\n",
    "Exécuter la cellule ci-dessous pour charger les sorties SQAVI (dans la variable `res`) et MCMC (dans la variable `chain`) d'un calcul précédent.  \n",
    "\n",
    "Seul le nom du dossier doit être spécifié, étant donné que les noms de fichiers sont prédéfinis (respectivement `sqavires.dat` et `mcmc_chain.dat`)."
   ]
  },
  {
   "cell_type": "code",
   "execution_count": 73,
   "id": "b3932342",
   "metadata": {},
   "outputs": [],
   "source": [
    "# Exécution sur les données simulées pour une grille de taille 200x200.\n",
    "loadFolder = \"results/200x200\";\n",
    "\n",
    "res = loadRes(loadFolder);\n",
    "chain = loadChain(loadFolder);"
   ]
  },
  {
   "cell_type": "markdown",
   "id": "536f20df",
   "metadata": {},
   "source": [
    "**IMPORTANT** : Si les résultats sont chargés, alors **on peut sauter les sections 6.1, 6.2 et 6.3**.\n",
    "\n",
    "**IMPORTANT** : Si on veut tracer de nouveaux graphiques à partir des résultats chargés, alors il faut tout de même spécifier un `saveFolder` (cf cellules suivantes)."
   ]
  },
  {
   "cell_type": "markdown",
   "id": "d76dc97a",
   "metadata": {},
   "source": [
    "## Créer de nouveaux résultats\n",
    "\n",
    "Il faut spécifier le dossier dans lequel on veut sauvegarder les sorties SQAVI et MCMC.\n",
    "\n",
    "**ATTENTION** : il faut que le dossier ait été créé avec la structure suivante afin de pouvoir enregistrer les tracés :\n",
    "```\n",
    ".\n",
    "├── exemple\n",
    "    └── plots\n",
    "```"
   ]
  },
  {
   "cell_type": "code",
   "execution_count": 22,
   "id": "81bcf135",
   "metadata": {},
   "outputs": [],
   "source": [
    "saveFolder = \"results/exemple\";"
   ]
  },
  {
   "cell_type": "markdown",
   "id": "71cb8b56",
   "metadata": {},
   "source": [
    "## 6.1. Les données\n",
    "\n",
    "Génération des données de simulation."
   ]
  },
  {
   "cell_type": "markdown",
   "id": "981e6a60",
   "metadata": {},
   "source": [
    "Taille de la grille à générer."
   ]
  },
  {
   "cell_type": "code",
   "execution_count": 13,
   "id": "e82e6360",
   "metadata": {},
   "outputs": [],
   "source": [
    "m₂ = 5;\n",
    "m₁ = 5;\n",
    "m = m₁ * m₂;"
   ]
  },
  {
   "cell_type": "markdown",
   "id": "ce6723e9",
   "metadata": {},
   "source": [
    "Génère la grille des vraies valeurs de $\\bm\\mu$, $\\bm\\phi$ et $\\xi$."
   ]
  },
  {
   "cell_type": "code",
   "execution_count": 19,
   "id": "a4027e52",
   "metadata": {},
   "outputs": [],
   "source": [
    "Random.seed!(300); # Graine de génération des nombres aléatoires.\n",
    "Fmu = iGMRF(m₁, m₂, 1, 1);\n",
    "Fphi = iGMRF(m₁, m₂, 1, 10);\n",
    "gridTarget = generateTargetGrid(Fmu, Fphi);\n",
    "gridTarget[:, :, 1] = gridTarget[:, :, 1] .+ 40.0; # Les μ sont centrés en 40.\n",
    "gridTarget[:, :, 2] = gridTarget[:, :, 2] .+ 1.0; # Les ϕ sont centrés en 1.\n",
    "gridTarget[:, :, 3] = gridTarget[:, :, 3] .+ 0.05; # On fixe ξ = .05\n",
    "nobs = 100; # Nombre d'observations extrêmes par cellule.\n",
    "data = generateData(gridTarget, nobs); # Données sous forme de Vector{Vector{Float64}}."
   ]
  },
  {
   "cell_type": "markdown",
   "id": "90783931",
   "metadata": {},
   "source": [
    "## 6.2. Estimations SQAVI"
   ]
  },
  {
   "cell_type": "markdown",
   "id": "29a77c4b",
   "metadata": {},
   "source": [
    "Modifier la variable `nEpochMax` pour spécifier le nombre maximal d'époques à effectuer avant de s'arrêter (cas où la convergence n'est pas atteinte).\n",
    "\n",
    "Modifier la variable `epochSize` pour spécifier le nombre d'itérations par époques.\n",
    "\n",
    "On ne fournit pas de valeurs initiales car celles-ci sont fixées de la sorte :\n",
    "- $\\mu$ et $\\phi$ sont initialisés à leur estimations de maximum de vraisemblance.\n",
    "- $\\xi$ est initialisé à la moyenne des estimations de maximum de vraisemblance sur toute la grille.\n",
    "- $b_u$ et $b_v$ sont initialisés de sorte que $\\kappa^{(0)}_u = 1$ et $\\kappa^{(0)}_v = 1$. "
   ]
  },
  {
   "cell_type": "code",
   "execution_count": 46,
   "id": "d87880a1",
   "metadata": {},
   "outputs": [],
   "source": [
    "nEpochMax = 10;\n",
    "epochSize = 1;\n",
    "\n",
    "spatialScheme = Dict(\n",
    "    :m => m,\n",
    "    :Fmu => Fmu,\n",
    "    :Fphi => Fphi,\n",
    "    :data => data,\n",
    ");"
   ]
  },
  {
   "cell_type": "markdown",
   "id": "b1c9908a",
   "metadata": {},
   "source": [
    "Exécution de SQAVI."
   ]
  },
  {
   "cell_type": "code",
   "execution_count": 47,
   "id": "d29be22f",
   "metadata": {},
   "outputs": [
    {
     "name": "stdout",
     "output_type": "stream",
     "text": [
      "Itération 0...\n",
      "Itération 1...\n",
      "Itération 2...\n",
      "Itération 3...\n",
      "Itération 4...\n",
      "Itération 5...\n",
      "Itération 6...\n",
      "Itération 7...\n",
      "Itération 8...\n",
      "Itération 9...\n",
      "L'algorithme a convergé !\n"
     ]
    }
   ],
   "source": [
    "ϵ = 0.001 # Critère d'arrêt.\n",
    "\n",
    "res = runSQAVI(nEpochMax, epochSize, spatialScheme, ϵ, saveFolder=saveFolder);"
   ]
  },
  {
   "cell_type": "markdown",
   "id": "f0621548",
   "metadata": {},
   "source": [
    "Tracés"
   ]
  },
  {
   "cell_type": "code",
   "execution_count": 51,
   "id": "f6e96282",
   "metadata": {},
   "outputs": [],
   "source": [
    "controlCell = 1; # Numéro de la cellule témoin.\n",
    "\n",
    "plotConvergenceCriterion(res.MCKL, saveFolder=saveFolder);\n",
    "plotTraceSQAVI(res.traces[:muMean][controlCell, :], \"μ$controlCell\", saveFolder=saveFolder);\n",
    "plotTraceSQAVI(res.traces[:phiMean][controlCell, :], \"ϕ$controlCell\", saveFolder=saveFolder);\n",
    "plotTraceSQAVI(res.traces[:xiMean], \"ξ\", saveFolder=saveFolder);\n",
    "trace = res.traces[:kappaUparams][1, :] ./ res.traces[:kappaUparams][2, :];\n",
    "plotTraceSQAVI(trace, \"κᵤ\", saveFolder=saveFolder);\n",
    "trace = res.traces[:kappaVparams][1, :] ./ res.traces[:kappaVparams][2, :];\n",
    "plotTraceSQAVI(trace, \"κᵥ\", saveFolder=saveFolder);"
   ]
  },
  {
   "cell_type": "markdown",
   "id": "342af209",
   "metadata": {},
   "source": [
    "## 6.3. Estimations MCMC"
   ]
  },
  {
   "cell_type": "markdown",
   "id": "21c4bcf7",
   "metadata": {},
   "source": [
    "### Configuration MCMC\n",
    "- Ne pas toucher à la variable `datastructure`.\n",
    "- `niter` contrôle le nombre d'itérations MCMC.\n",
    "- `stepsize` contrôle la variance instrumentale de chaque paramètre -> à adapter en fonction du taux d'acceptation. \n"
   ]
  },
  {
   "cell_type": "code",
   "execution_count": 63,
   "id": "7a841c46",
   "metadata": {},
   "outputs": [],
   "source": [
    "datastructure = Dict(\n",
    "    :Y => data,\n",
    "    :Fmu => Fmu,\n",
    "    :Fphi => Fphi,\n",
    ");\n",
    "\n",
    "niter = 10000;\n",
    "\n",
    "stepsize = Dict(\n",
    "    :μ => 1.25,\n",
    "    :ϕ => .35,\n",
    "    :ξ => .05,\n",
    ");"
   ]
  },
  {
   "cell_type": "markdown",
   "id": "872fc029",
   "metadata": {},
   "source": [
    "### Exécution"
   ]
  },
  {
   "cell_type": "code",
   "execution_count": 64,
   "id": "84954a19",
   "metadata": {},
   "outputs": [
    {
     "name": "stderr",
     "output_type": "stream",
     "text": [
      "\u001b[32mProgress: 100%|█████████████████████████████████████████| Time: 0:00:08\u001b[39m\u001b[K\n"
     ]
    }
   ],
   "source": [
    "chain = mcmc(datastructure, niter, stepsize, saveFolder=saveFolder);"
   ]
  },
  {
   "cell_type": "markdown",
   "id": "9edcc244",
   "metadata": {},
   "source": [
    "Taux d'acceptation."
   ]
  },
  {
   "cell_type": "code",
   "execution_count": 65,
   "id": "c119e217",
   "metadata": {},
   "outputs": [
    {
     "data": {
      "text/plain": [
       "             Change Rate\n",
       "          μ1       0.356\n",
       "          μ2       0.256\n",
       "          μ3       0.254\n",
       "          μ4       0.204\n",
       "          μ5       0.198\n",
       "          μ6       0.313\n",
       "          μ7       0.242\n",
       "          μ8       0.226\n",
       "          μ9       0.212\n",
       "         μ10       0.227\n",
       "         μ11       0.281\n",
       "         μ12       0.227\n",
       "         μ13       0.238\n",
       "         μ14       0.235\n",
       "         μ15       0.249\n",
       "         μ16       0.238\n",
       "         μ17       0.216\n",
       "         μ18       0.219\n",
       "         μ19       0.224\n",
       "         μ20       0.257\n",
       "         μ21       0.202\n",
       "         μ22       0.247\n",
       "         μ23       0.204\n",
       "         μ24       0.205\n",
       "         μ25       0.245\n",
       "          ϕ1       0.228\n",
       "          ϕ2       0.234\n",
       "          ϕ3       0.224\n",
       "          ϕ4       0.235\n",
       "          ϕ5       0.235\n",
       "          ϕ6       0.230\n",
       "          ϕ7       0.221\n",
       "          ϕ8       0.217\n",
       "          ϕ9       0.224\n",
       "         ϕ10       0.236\n",
       "         ϕ11       0.222\n",
       "         ϕ12       0.216\n",
       "         ϕ13       0.214\n",
       "         ϕ14       0.221\n",
       "         ϕ15       0.234\n",
       "         ϕ16       0.239\n",
       "         ϕ17       0.222\n",
       "         ϕ18       0.225\n",
       "         ϕ19       0.228\n",
       "         ϕ20       0.230\n",
       "         ϕ21       0.244\n",
       "         ϕ22       0.220\n",
       "         ϕ23       0.244\n",
       "         ϕ24       0.233\n",
       "         ϕ25       0.230\n",
       "           ξ       0.305\n",
       "          κᵤ       1.000\n",
       "          κᵥ       1.000\n",
       "Multivariate       1.000\n",
       "\n"
      ]
     },
     "metadata": {},
     "output_type": "display_data"
    }
   ],
   "source": [
    "changerate(chain)"
   ]
  },
  {
   "cell_type": "markdown",
   "id": "47929f37",
   "metadata": {},
   "source": [
    "### Tracés\n",
    "\n",
    "Modifier la valeur de `varName` pour afficher la trace d'un autre paramètre.\n",
    "\n",
    "Le tracé apparaîtra dans le dossier de sauvegarde."
   ]
  },
  {
   "cell_type": "code",
   "execution_count": 67,
   "id": "f96160e2",
   "metadata": {},
   "outputs": [],
   "source": [
    "varName = \"ξ\";\n",
    "\n",
    "plotTraceMCMC(chain, varName, saveFolder=saveFolder);"
   ]
  },
  {
   "cell_type": "markdown",
   "id": "916f1fcb",
   "metadata": {},
   "source": [
    "## 6.4. Comparaison SQAVI et MCMC"
   ]
  },
  {
   "cell_type": "markdown",
   "id": "d0db8490",
   "metadata": {},
   "source": [
    "### Tracés de comparaison\n",
    "\n",
    "On a besoin de spécifier l'itération de chauffe du MCMC (`warmingSize`) pour afficher un échantillon *a posteriori* satisfaisant.\n",
    "\n",
    "`controlCell` indique la cellule témoin pour laquelle on va regarder $\\mu$ et $\\phi$, il faut qu'elle soit comprise entre $1$ et $m$.\n",
    "\n",
    "**ATTENTION** : les domaines de définition des lois d'approximations doivent être spécifiés dans le fichier `src/plotting.jl` pour chaque tracé, sans quoi les densités d'approximation n'apparaîtront pas convenablement."
   ]
  },
  {
   "cell_type": "code",
   "execution_count": 77,
   "id": "5ad3aea4",
   "metadata": {},
   "outputs": [],
   "source": [
    "controlCell = 2;\n",
    "warmingSize = 1000;\n",
    "\n",
    "plotSQAVIvsMCMC(controlCell, sqaviRes=res, mcmcChain=chain, warmingSize=warmingSize, saveFolder=saveFolder);"
   ]
  },
  {
   "cell_type": "markdown",
   "id": "326d48d0",
   "metadata": {},
   "source": [
    "### Estimations MCMC"
   ]
  },
  {
   "cell_type": "code",
   "execution_count": null,
   "id": "ca65f805",
   "metadata": {},
   "outputs": [],
   "source": [
    "xi_mcmc = mean(chain[:, \"ξ\", :].value[warmingSize:end]);\n",
    "kappa_v_mcmc = mean(chain[:, \"κᵥ\", :].value[warmingSize:end]);\n",
    "kappa_u_mcmc = mean(chain[:, \"κᵤ\", :].value[warmingSize:end]);\n",
    "mu_mcmc = mean(chain[:, \"μ$controlCell\", :].value[warmingSize:end]);\n",
    "phi_mcmc = mean(chain[:, \"ϕ$controlCell\", :].value[warmingSize:end]);"
   ]
  },
  {
   "cell_type": "markdown",
   "id": "fc8c6107",
   "metadata": {},
   "source": [
    "### Estimations SQAVI"
   ]
  },
  {
   "cell_type": "code",
   "execution_count": 75,
   "id": "2e67c7f6",
   "metadata": {},
   "outputs": [],
   "source": [
    "xi_sqavi = res.traces[:xiMean][end];\n",
    "kappa_v_sqavi = res.traces[:kappaVparams][1, end] ./ res.traces[:kappaVparams][2, end];\n",
    "kappa_u_sqavi = res.traces[:kappaUparams][1, end] ./ res.traces[:kappaUparams][2, end];\n",
    "mu_sqavi = res.traces[:muMean][controlCell, end];\n",
    "phi_sqavi = res.traces[:phiMean][controlCell, end];"
   ]
  },
  {
   "cell_type": "markdown",
   "id": "23fdce1b",
   "metadata": {},
   "source": [
    "### Distance absolue entre les estimations"
   ]
  },
  {
   "cell_type": "code",
   "execution_count": 79,
   "id": "435693a9",
   "metadata": {},
   "outputs": [
    {
     "data": {
      "text/plain": [
       "0.22750998320181104"
      ]
     },
     "metadata": {},
     "output_type": "display_data"
    }
   ],
   "source": [
    "abs(kappa_v_mcmc - kappa_v_sqavi)"
   ]
  },
  {
   "cell_type": "markdown",
   "id": "df99d9cb",
   "metadata": {},
   "source": [
    "# CHAPITRE 7. Résultats sur données de réanalyse"
   ]
  },
  {
   "cell_type": "code",
   "execution_count": 2,
   "id": "cea77133",
   "metadata": {},
   "outputs": [],
   "source": [
    "include(\"casr/src/utils.jl\");\n",
    "include(\"casr/src/preprocessing.jl\");\n",
    "include(\"casr/src/montreal.jl\");"
   ]
  },
  {
   "cell_type": "markdown",
   "id": "3aa1e511",
   "metadata": {},
   "source": [
    "### Données"
   ]
  },
  {
   "cell_type": "code",
   "execution_count": 3,
   "id": "ce69cdcb",
   "metadata": {},
   "outputs": [],
   "source": [
    "DATA_FOLDER = \"casr/data\";\n",
    "RAW_FOLDER = \"casr/raw\";"
   ]
  },
  {
   "cell_type": "markdown",
   "id": "af9f75f3",
   "metadata": {},
   "source": [
    "### Pré-traitement"
   ]
  },
  {
   "cell_type": "code",
   "execution_count": 4,
   "id": "e1236b5d",
   "metadata": {},
   "outputs": [],
   "source": [
    "datasetMaxima = load_array3d(\"$DATA_FOLDER/preprocessed/maxima.bin\");\n",
    "\n",
    "# Réduction de la taille pour délimiter plus finement le Québec\n",
    "(m₁, m₂) = (210, 175);\n",
    "m = prod((m₁, m₂));\n",
    "quebecMaxima = datasetMaxima[1:m₁, 1:m₂, :]\n",
    "\n",
    "data = preprocessMaxima(quebecMaxima);"
   ]
  },
  {
   "cell_type": "markdown",
   "id": "c7953e30",
   "metadata": {},
   "source": [
    "Cellule témoin (Montréal)"
   ]
  },
  {
   "cell_type": "code",
   "execution_count": 5,
   "id": "323c75db",
   "metadata": {},
   "outputs": [
    {
     "name": "stdout",
     "output_type": "stream",
     "text": [
      "Coordonnées du point de plus proche de Montréal : [45.49225, -73.61365]\n"
     ]
    },
    {
     "data": {
      "text/plain": [
       "33515"
      ]
     },
     "metadata": {},
     "output_type": "display_data"
    }
   ],
   "source": [
    "lats = load_matrix(\"casr/data/viz/lats.bin\")[1:m₁, 1:m₂];\n",
    "lons = load_matrix(\"casr/data/viz/lons.bin\")[1:m₁, 1:m₂] .- 360;\n",
    "\n",
    "MTLcell = findMontreal(lats, lons);\n",
    "MTLcell"
   ]
  },
  {
   "cell_type": "markdown",
   "id": "8d60706a",
   "metadata": {},
   "source": [
    "Pour la visualisation des données et de la cellule témoin, voir `visualisation.ipynb`."
   ]
  },
  {
   "cell_type": "markdown",
   "id": "3c658159",
   "metadata": {},
   "source": [
    "## Charger des anciens résultats\n",
    "Exécuter la cellule ci-dessous pour charger les sorties SQAVI (dans la variable `res`) et MCMC (dans la variable `chain`) d'un calcul précédent.  \n",
    "\n",
    "Seul le nom du dossier doit être spécifié, étant donné que les noms de fichiers sont prédéfinis (respectivement `sqavires.dat` et `mcmc_chain.dat`)."
   ]
  },
  {
   "cell_type": "code",
   "execution_count": 6,
   "id": "63b8f4ea",
   "metadata": {},
   "outputs": [],
   "source": [
    "# Exécution sur les données simulées pour une grille de taille 200x200.\n",
    "loadFolder = \"results/casr\";\n",
    "\n",
    "res = loadRes(loadFolder);\n",
    "chain = loadChain(loadFolder);"
   ]
  },
  {
   "cell_type": "markdown",
   "id": "3a8fe87b",
   "metadata": {},
   "source": [
    "**IMPORTANT** : Si on veut tracer de nouveaux graphiques à partir des résultats chargés, alors il faut tout de même spécifier un `saveFolder` (cf cellules suivantes) et **effectuer le pré-traitement des données pour trouver la cellule témoin**."
   ]
  },
  {
   "cell_type": "markdown",
   "id": "2af42d04",
   "metadata": {},
   "source": [
    "## Créer de nouveaux résultats\n",
    "\n",
    "Il faut spécifier le dossier dans lequel on veut sauvegarder les sorties SQAVI et MCMC.\n",
    "\n",
    "**ATTENTION** : il faut que le dossier ait été créé avec la structure suivante afin de pouvoir enregistrer les tracés :\n",
    "```\n",
    ".\n",
    "├── exemple\n",
    "    └── plots\n",
    "```"
   ]
  },
  {
   "cell_type": "code",
   "execution_count": 7,
   "id": "1f0d87c1",
   "metadata": {},
   "outputs": [],
   "source": [
    "saveFolder = \"results/exemple\";"
   ]
  },
  {
   "cell_type": "markdown",
   "id": "7a6e4dab",
   "metadata": {},
   "source": [
    "## 7.1. Estimations SQAVI"
   ]
  },
  {
   "cell_type": "markdown",
   "id": "2906442b",
   "metadata": {},
   "source": [
    "Configuration SQAVI."
   ]
  },
  {
   "cell_type": "code",
   "execution_count": 12,
   "id": "cd8f1320",
   "metadata": {},
   "outputs": [],
   "source": [
    "nEpochMax = 10;\n",
    "epochSize = 1;\n",
    "\n",
    "spatialScheme = Dict(\n",
    "    :m => m,\n",
    "    :Fmu => iGMRF(m₁, m₂, 1, 1),\n",
    "    :Fphi => iGMRF(m₁, m₂, 1, 1),\n",
    "    :data => data,\n",
    ");"
   ]
  },
  {
   "cell_type": "markdown",
   "id": "77bffce9",
   "metadata": {},
   "source": [
    "Exécution SQAVI"
   ]
  },
  {
   "cell_type": "markdown",
   "id": "0d78b847",
   "metadata": {},
   "source": [
    "res = runSQAVI(nEpochMax, epochSize, spatialScheme, saveFolder=saveFolder);"
   ]
  },
  {
   "cell_type": "markdown",
   "id": "0e043ee0",
   "metadata": {},
   "source": [
    "Tracés"
   ]
  },
  {
   "cell_type": "code",
   "execution_count": 11,
   "id": "a80f6e2c",
   "metadata": {},
   "outputs": [],
   "source": [
    "controlCell = MTLcell; # Numéro de la cellule témoin.\n",
    "\n",
    "plotConvergenceCriterion(res.MCKL, saveFolder=saveFolder);\n",
    "plotTraceSQAVI(res.traces[:muMean][controlCell, :], \"μₘₜₗ\", saveFolder=saveFolder);\n",
    "plotTraceSQAVI(res.traces[:phiMean][controlCell, :], \"ϕₘₜₗ\", saveFolder=saveFolder);\n",
    "plotTraceSQAVI(res.traces[:xiMean], \"ξ\", saveFolder=saveFolder);\n",
    "trace = res.traces[:kappaUparams][1, :] ./ res.traces[:kappaUparams][2, :];\n",
    "plotTraceSQAVI(trace, \"κᵤ\", saveFolder=saveFolder);\n",
    "trace = res.traces[:kappaVparams][1, :] ./ res.traces[:kappaVparams][2, :];\n",
    "plotTraceSQAVI(trace, \"κᵥ\", saveFolder=saveFolder);"
   ]
  },
  {
   "cell_type": "markdown",
   "id": "80c1b375",
   "metadata": {},
   "source": [
    "Enregistrement des estimations."
   ]
  },
  {
   "cell_type": "code",
   "execution_count": 20,
   "id": "6ccbd4fb",
   "metadata": {},
   "outputs": [],
   "source": [
    "muSQAVI = res.traces[:muMean][:, end];\n",
    "save_vector(\"$saveFolder/mu_sqavi_estimates.bin\", muSQAVI);\n",
    "phiSQAVI = res.traces[:phiMean][:, end];\n",
    "save_vector(\"$saveFolder/phi_sqavi_estimates.bin\", phiSQAVI);"
   ]
  },
  {
   "cell_type": "markdown",
   "id": "37de653a",
   "metadata": {},
   "source": [
    "## 7.2. Estimations MCMC"
   ]
  },
  {
   "cell_type": "markdown",
   "id": "bef92e7d",
   "metadata": {},
   "source": [
    "Configuration."
   ]
  },
  {
   "cell_type": "code",
   "execution_count": 17,
   "id": "52313897",
   "metadata": {},
   "outputs": [],
   "source": [
    "datastructure = Dict(\n",
    "    :Y => data,\n",
    "    :Fmu => iGMRF(m₁, m₂, 1, 1),\n",
    "    :Fphi => iGMRF(m₁, m₂, 1, 1),\n",
    ");\n",
    "\n",
    "niter = 1000;\n",
    "\n",
    "stepsize = Dict(\n",
    "    :μ => 1,\n",
    "    :ϕ => .1,\n",
    "    :ξ => .005,\n",
    ");"
   ]
  },
  {
   "cell_type": "markdown",
   "id": "827e7b49",
   "metadata": {},
   "source": [
    "Exécution."
   ]
  },
  {
   "cell_type": "code",
   "execution_count": null,
   "id": "8225a68a",
   "metadata": {},
   "outputs": [],
   "source": [
    "chain = mcmc(datastructure, niter, initialvalues, stepsize, saveFolder=saveFolder);"
   ]
  },
  {
   "cell_type": "markdown",
   "id": "bb286205",
   "metadata": {},
   "source": [
    "Taux d'acceptation."
   ]
  },
  {
   "cell_type": "code",
   "execution_count": null,
   "id": "244cb2a3",
   "metadata": {},
   "outputs": [],
   "source": [
    "changerate(chain)"
   ]
  },
  {
   "cell_type": "markdown",
   "id": "be1e7c5d",
   "metadata": {},
   "source": [
    "### Tracés\n",
    "\n",
    "Modifier la valeur de `varName` pour afficher la trace d'un autre paramètre.\n",
    "\n",
    "Le tracé apparaîtra dans le dossier de sauvegarde."
   ]
  },
  {
   "cell_type": "code",
   "execution_count": 12,
   "id": "5740b61d",
   "metadata": {},
   "outputs": [],
   "source": [
    "varName = \"ξ\";\n",
    "\n",
    "plotTraceMCMC(chain, varName, saveFolder=saveFolder);"
   ]
  },
  {
   "cell_type": "markdown",
   "id": "00023383",
   "metadata": {},
   "source": [
    "Enregistrement des estimations."
   ]
  },
  {
   "cell_type": "code",
   "execution_count": 24,
   "id": "f92ea27a",
   "metadata": {},
   "outputs": [],
   "source": [
    "muMCMC = mean(chain[1001:end, 1:m, :].value[:, :], dims=1)[:];\n",
    "save_vector(\"$saveFolder/mu_mcmc_estimates.bin\", muMCMC);\n",
    "phiMCMC = mean(chain[1001:end, m+1:2*m, :].value[:, :], dims=1)[:];\n",
    "save_vector(\"$saveFolder/phi_mcmc_estimates.bin\", phiMCMC);"
   ]
  },
  {
   "cell_type": "markdown",
   "id": "2258a77c",
   "metadata": {},
   "source": [
    "## 7.3. Comparaison SQAVI et MCMC"
   ]
  },
  {
   "cell_type": "markdown",
   "id": "5af018b2",
   "metadata": {},
   "source": [
    "### Tracés de comparaison\n",
    "\n",
    "On a besoin de spécifier l'itération de chauffe du MCMC (`warmingSize`) pour afficher un échantillon *a posteriori* satisfaisant.\n",
    "\n",
    "`controlCell` indique la cellule témoin pour laquelle on va regarder $\\mu$ et $\\phi$, il faut qu'elle soit comprise entre $1$ et $m$.\n",
    "\n",
    "**ATTENTION** : les domaines de définition des lois d'approximations doivent être spécifiés dans le fichier `src/plotting.jl` pour chaque tracé, sans quoi les densités d'approximation n'apparaîtront pas convenablement."
   ]
  },
  {
   "cell_type": "code",
   "execution_count": 16,
   "id": "557e4dfb",
   "metadata": {},
   "outputs": [],
   "source": [
    "controlCell = MTLcell;\n",
    "warmingSize = 1000;\n",
    "\n",
    "plotSQAVIvsMCMC(controlCell, sqaviRes=res, mcmcChain=chain, warmingSize=warmingSize, saveFolder=saveFolder);"
   ]
  },
  {
   "cell_type": "markdown",
   "id": "dfc99795",
   "metadata": {},
   "source": [
    "### Estimations MCMC"
   ]
  },
  {
   "cell_type": "code",
   "execution_count": 28,
   "id": "9d7e0fc2",
   "metadata": {},
   "outputs": [],
   "source": [
    "xi_mcmc = mean(chain[:, \"ξ\", :].value[warmingSize:end]);\n",
    "kappa_v_mcmc = mean(chain[:, \"κᵥ\", :].value[warmingSize:end]);\n",
    "kappa_u_mcmc = mean(chain[:, \"κᵤ\", :].value[warmingSize:end]);\n",
    "mu_mcmc = mean(chain[:, \"μ$controlCell\", :].value[warmingSize:end]);\n",
    "phi_mcmc = mean(chain[:, \"ϕ$controlCell\", :].value[warmingSize:end]);"
   ]
  },
  {
   "cell_type": "markdown",
   "id": "301946d5",
   "metadata": {},
   "source": [
    "### Estimations SQAVI"
   ]
  },
  {
   "cell_type": "code",
   "execution_count": 29,
   "id": "96e90dc7",
   "metadata": {},
   "outputs": [],
   "source": [
    "xi_sqavi = res.traces[:xiMean][end];\n",
    "kappa_v_sqavi = res.traces[:kappaVparams][1, end] ./ res.traces[:kappaVparams][2, end];\n",
    "kappa_u_sqavi = res.traces[:kappaUparams][1, end] ./ res.traces[:kappaUparams][2, end];\n",
    "mu_sqavi = res.traces[:muMean][controlCell, end];\n",
    "phi_sqavi = res.traces[:phiMean][controlCell, end];"
   ]
  },
  {
   "cell_type": "markdown",
   "id": "14dd3f9b",
   "metadata": {},
   "source": [
    "### Distance absolue entre les estimations"
   ]
  },
  {
   "cell_type": "code",
   "execution_count": 30,
   "id": "51e81260",
   "metadata": {},
   "outputs": [
    {
     "data": {
      "text/plain": [
       "2.2210796322428052"
      ]
     },
     "metadata": {},
     "output_type": "display_data"
    }
   ],
   "source": [
    "abs(kappa_v_mcmc - kappa_v_sqavi)"
   ]
  },
  {
   "cell_type": "code",
   "execution_count": 19,
   "id": "f5f7e892",
   "metadata": {},
   "outputs": [
    {
     "data": {
      "text/plain": [
       "FullNormal(\n",
       "dim: 2\n",
       "μ: [44.23616832491034, 2.3821374597410214]\n",
       "Σ: [2.3694097596689296 0.03447518679825579; 0.03447518679825579 0.00767931765991413]\n",
       ")\n"
      ]
     },
     "metadata": {},
     "output_type": "display_data"
    }
   ],
   "source": [
    "res.approxMarginals[controlCell]"
   ]
  },
  {
   "cell_type": "code",
   "execution_count": null,
   "id": "80bd10c5",
   "metadata": {},
   "outputs": [
    {
     "data": {
      "text/plain": [
       "false"
      ]
     },
     "metadata": {},
     "output_type": "display_data"
    }
   ],
   "source": [
    "include(\"src/plotting.jl\")\n",
    "\n",
    "plotComparisonJointMarginal(\n",
    "    controlCell,\n",
    "    sqaviRes=res,\n",
    "    mcmcChain=chain,\n",
    "    warmingSize=warmingSize,\n",
    "    saveFolder=saveFolder,\n",
    ");"
   ]
  },
  {
   "cell_type": "code",
   "execution_count": null,
   "id": "58d30595",
   "metadata": {},
   "outputs": [],
   "source": []
  }
 ],
 "metadata": {
  "kernelspec": {
   "display_name": "Julia 1.10.5",
   "language": "julia",
   "name": "julia-1.10"
  },
  "language_info": {
   "file_extension": ".jl",
   "mimetype": "application/julia",
   "name": "julia",
   "version": "1.10.5"
  }
 },
 "nbformat": 4,
 "nbformat_minor": 5
}
