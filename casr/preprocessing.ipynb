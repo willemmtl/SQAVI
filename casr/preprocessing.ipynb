{
 "cells": [
  {
   "cell_type": "code",
   "execution_count": null,
   "id": "1c13f6b5",
   "metadata": {},
   "outputs": [],
   "source": [
    "include(\"src/preprocessing.jl\");"
   ]
  },
  {
   "cell_type": "markdown",
   "id": "2ea2703b",
   "metadata": {},
   "source": [
    "Extraction des maxima annuels pour chaque cellule et concaténation des macro cellules (cellules de 35x35 micro cellules) pour les placer relativement les unes par rapport aux autres en respectant les coordonnées polaires."
   ]
  },
  {
   "cell_type": "code",
   "execution_count": null,
   "id": "67fe479d",
   "metadata": {},
   "outputs": [],
   "source": [
    "maxima = concatMacroMaxima(\"data/raw\");"
   ]
  },
  {
   "cell_type": "markdown",
   "id": "1b4a1bf5",
   "metadata": {},
   "source": [
    "Sauvegarde dans un fichier.\n",
    "Conseil : conserver les noms de fichier et dossier tels qu'ils sont."
   ]
  },
  {
   "cell_type": "code",
   "execution_count": null,
   "id": "ea95e70f",
   "metadata": {},
   "outputs": [],
   "source": [
    "save_array3d(\"data/preprocessed/maxima.bin\", maxima);"
   ]
  }
 ],
 "metadata": {
  "kernelspec": {
   "display_name": "Julia 1.10.5",
   "language": "julia",
   "name": "julia-1.10"
  },
  "language_info": {
   "file_extension": ".jl",
   "mimetype": "application/julia",
   "name": "julia",
   "version": "1.10.5"
  }
 },
 "nbformat": 4,
 "nbformat_minor": 5
}
